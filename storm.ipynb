{
 "cells": [
  {
   "cell_type": "markdown",
   "id": "044d3184-548b-4018-997c-10b7fac08d3f",
   "metadata": {},
   "source": [
    "# STORM - LangChain\n",
    "\n",
    "<img src=\"storm.png\"></img>\n",
    "\n",
    "STORM is a research assistant designed by Shao, et. al that extends the idea of \"outline-driven RAG\" for richer article generation.\n",
    "\n",
    "STORM is designed to generate Wikipedia-style ariticles on a user-provided topic. It applies two main insights to produce more organized and comprehensive articles:\n",
    "\n",
    "Creating an outline (planning) by querying similar topics helps improve coverage.\n",
    "Multi-perspective, grounded (in search) conversation simulation helps increase the reference count and information density.\n",
    "The control flow looks like the diagram below.\n",
    "\n",
    "STORM has a few main stages:\n",
    "\n",
    "Generate initial outline + Survey related subjects\n",
    "Identify distinct perspectives\n",
    "\"Interview subject matter experts\" (role-playing LLMs)\n",
    "Refine outline (using references)\n",
    "Write sections, then write article\n",
    "The expert interviews stage occurs between the role-playing article writer and a research expert. The \"expert\" is able to query external knowledge and respond to pointed questions, saving cited sources to a vectorstore so that the later refinement stages can synthesize the full article.\n",
    "\n",
    "There are a couple hyperparameters you can set to restrict the (potentially) infinite research breadth:\n",
    "\n",
    "N: Number of perspectives to survey / use (Steps 2->3) M: Max number of conversation turns in step (Step 3)"
   ]
  },
  {
   "cell_type": "code",
   "execution_count": 1,
   "id": "8aa862f0-450a-4312-b1d7-6808ad87ca3d",
   "metadata": {},
   "outputs": [],
   "source": [
    "%%capture --no-stderr\n",
    "%pip install --quiet -U langgraph langchain_openai langchain_community langchain_core"
   ]
  },
  {
   "cell_type": "code",
   "execution_count": 2,
   "id": "f99b2868-fb11-47f3-bdfe-413176b6c9a8",
   "metadata": {},
   "outputs": [],
   "source": [
    "from dotenv import load_dotenv\n",
    "\n",
    "_ = load_dotenv(\"src/local.env\")"
   ]
  },
  {
   "cell_type": "code",
   "execution_count": 3,
   "id": "fc034c0f-1427-44be-847a-2ca704d710e9",
   "metadata": {},
   "outputs": [],
   "source": [
    "from langchain_openai import ChatOpenAI\n",
    "\n",
    "llm = ChatOpenAI(model=\"gpt-4o-mini\", temperature=0)"
   ]
  },
  {
   "cell_type": "markdown",
   "id": "7692b3f3-e04b-4569-ba78-dbc6861b9172",
   "metadata": {},
   "source": [
    "## Generate Analysts: Human-In-The-Loop\n",
    "\n",
    "Create analysts and review them using human-in-the-loop"
   ]
  },
  {
   "cell_type": "code",
   "execution_count": 4,
   "id": "8c3251b6-a4d7-4fcc-9d80-7ac7b6d0e19b",
   "metadata": {},
   "outputs": [],
   "source": [
    "from typing import List\n",
    "from typing_extensions import TypedDict\n",
    "from pydantic import BaseModel, Field"
   ]
  },
  {
   "cell_type": "code",
   "execution_count": 5,
   "id": "f32c3644-2ce9-4f8b-b7b3-4f1952a1ce72",
   "metadata": {},
   "outputs": [],
   "source": [
    "class Analyst(BaseModel):\n",
    "    affiliation: str = Field(\n",
    "        description=\"Primary affiliation of the analyst.\"\n",
    "    )\n",
    "    name: str = Field(\n",
    "        description=\"Name of the analyst.\"\n",
    "    )\n",
    "    role: str = Field(\n",
    "        description=\"Role of the analyst in the contex of the topic.\"\n",
    "    )\n",
    "    description: str = Field(\n",
    "        description=\"Description of the analyst focus, and motives.\"\n",
    "    )\n",
    "    @property\n",
    "    def persona(self) -> str:\n",
    "        return f\"Name: {self.name}\\nRole: {self.role}\\nAffiliation: {self.affiliation}\\nDescription: {self.description}\\n\""
   ]
  },
  {
   "cell_type": "code",
   "execution_count": 6,
   "id": "cab5653b-0e31-4b7c-a934-9bff7ebf3405",
   "metadata": {},
   "outputs": [],
   "source": [
    "class Perspectives(BaseModel):\n",
    "    analysts: List[Analyst] = Field(\n",
    "        description=\"Comprehensive list of analysts with their roles and affiliations.\"\n",
    "    )"
   ]
  },
  {
   "cell_type": "code",
   "execution_count": 7,
   "id": "3c4f87f6-4ad5-4883-88ed-5d539cde5bcd",
   "metadata": {},
   "outputs": [],
   "source": [
    "class GenerateAnalystsState(TypedDict):\n",
    "    topic: str\n",
    "    max_analysts: int\n",
    "    human_analyst_feedback: str\n",
    "    analysts: List[Analyst]"
   ]
  },
  {
   "cell_type": "code",
   "execution_count": 8,
   "id": "de349f75-58db-4b56-bcaa-782b4e3ea087",
   "metadata": {},
   "outputs": [],
   "source": [
    "from langgraph.graph import START, END, StateGraph\n",
    "from langgraph.checkpoint.memory import MemorySaver\n",
    "from langchain_core.messages import AIMessage, HumanMessage, SystemMessage\n",
    "from IPython.display import Image, display"
   ]
  },
  {
   "cell_type": "code",
   "execution_count": 9,
   "id": "28fbdc81-6521-4e7c-885b-4b80ca411418",
   "metadata": {},
   "outputs": [],
   "source": [
    "analyst_instructions = \"\"\"\n",
    "You are tasked with creating a set of AI analyst personas. Follow these instructions carefully:\n",
    "\n",
    "1. First, review the research topic:\n",
    "{topic}\n",
    "\n",
    "2. Examine any editorial feedback that has been optionally provided to guide creation of the analysts:\n",
    "{human_analyst_feedback}\n",
    "\n",
    "3. Determine the most interesting themes based upon documents and / or feedback above.\n",
    "\n",
    "4. Pick the top {max_analysts} themes.\n",
    "\n",
    "5. Assign one analyst to each theme.\"\"\""
   ]
  },
  {
   "cell_type": "code",
   "execution_count": 43,
   "id": "c45c2b02-0172-414b-8cc8-025f9aadd239",
   "metadata": {},
   "outputs": [],
   "source": [
    "def create_analysts(state: GenerateAnalystsState):\n",
    "    \n",
    "    \"\"\" \n",
    "    Create analysts \n",
    "    \"\"\"\n",
    "    \n",
    "    topic=state['topic']\n",
    "    max_analysts=state['max_analysts']\n",
    "    human_analyst_feedback=state.get('human_analyst_feedback', '')\n",
    "    \n",
    "    structured_llm = llm.with_structured_output(Perspectives)\n",
    "    \n",
    "    system_message = analyst_instructions.format(\n",
    "        topic=topic,\n",
    "        human_analyst_feedback=human_analyst_feedback,\n",
    "        max_analysts=max_analysts\n",
    "    )\n",
    "    \n",
    "    analysts = structured_llm.invoke([SystemMessage(content=system_message)]+[HumanMessage(content=\"Generate the set of analysts.\")])\n",
    "    \n",
    "    return {\"analysts\": analysts.analysts}"
   ]
  },
  {
   "cell_type": "code",
   "execution_count": 35,
   "id": "00657d35-c1e2-44ad-bc29-ae8bccff8423",
   "metadata": {},
   "outputs": [],
   "source": [
    "def human_feedback(state: GenerateAnalystsState):\n",
    "    \"\"\" \n",
    "    No-op node that should be interrupted on\n",
    "    \"\"\"\n",
    "    pass"
   ]
  },
  {
   "cell_type": "code",
   "execution_count": 36,
   "id": "7daadf8d-7551-4053-8e58-8111fa684698",
   "metadata": {},
   "outputs": [],
   "source": [
    "def should_continue(state: GenerateAnalystsState):\n",
    "    \"\"\"\n",
    "    Return the next node to execute\n",
    "    \"\"\"\n",
    "\n",
    "    human_analyst_feedback = state.get('human_analyst_feedback', None)\n",
    "    if human_analyst_feedback:\n",
    "        return \"create_analysts\"\n",
    "    return END"
   ]
  },
  {
   "cell_type": "code",
   "execution_count": 37,
   "id": "c3b0d068-a4f3-4e90-b460-59f5e2636c44",
   "metadata": {},
   "outputs": [
    {
     "data": {
      "image/jpeg": "[encoded data removed]",
      "text/plain": [
       "<IPython.core.display.Image object>"
      ]
     },
     "metadata": {},
     "output_type": "display_data"
    }
   ],
   "source": [
    "builder = StateGraph(GenerateAnalystsState)\n",
    "builder.add_node(\"create_analysts\", create_analysts)\n",
    "builder.add_node(\"human_feedback\", human_feedback)\n",
    "\n",
    "builder.add_edge(START, \"create_analysts\")\n",
    "builder.add_edge(\"create_analysts\", \"human_feedback\")\n",
    "builder.add_conditional_edges(\"human_feedback\", should_continue, [\"create_analysts\", END])\n",
    "\n",
    "memory = MemorySaver()\n",
    "graph = builder.compile(interrupt_before=[\"human_feedback\"], checkpointer=memory)\n",
    "\n",
    "display(Image(graph.get_graph(xray=1).draw_mermaid_png()))"
   ]
  },
  {
   "cell_type": "code",
   "execution_count": 39,
   "id": "76134ad3-e039-46ac-992e-52e60faa69ce",
   "metadata": {},
   "outputs": [
    {
     "name": "stdout",
     "output_type": "stream",
     "text": [
      "Are you satisfied with generated analysts (yes/no):  yes\n"
     ]
    }
   ],
   "source": [
    "max_analysts = 3\n",
    "topic = \"how to create ec2 instance\"\n",
    "thread = {\"configurable\": {\"thread_id\": \"1\"}}\n",
    "\n",
    "graph.invoke({\"topic\": topic, \"max_analysts\": max_analysts, \"human_analyst_feedback\": \"\"}, thread)\n",
    "\n",
    "user_approval = input(\"Are you satisfied with generated analysts (yes/no): \")\n",
    "\n",
    "if user_approval.lower() == \"yes\":\n",
    "    result = graph.invoke(None, thread)  \n",
    "else:\n",
    "    user_feedback = input(\"How would you improve analyst creation: \")\n",
    "    graph.invoke({\"topic\": topic + \",\" + user_feedback, \"max_analysts\": max_analysts, \"human_analyst_feedback\": \"\"}, thread)\n",
    "    result = graph.invoke(None, thread)"
   ]
  },
  {
   "cell_type": "code",
   "execution_count": 40,
   "id": "5ac338a9-0132-43f3-bf84-2f30e6b281da",
   "metadata": {},
   "outputs": [
    {
     "name": "stdout",
     "output_type": "stream",
     "text": [
      "{'topic': 'how to create ec2 instance', 'max_analysts': 3, 'human_analyst_feedback': '', 'analysts': [Analyst(affiliation='Amazon Web Services', name='Alice Johnson', role='Cloud Solutions Architect', description='Alice specializes in cloud infrastructure and has extensive experience in deploying and managing EC2 instances. She focuses on best practices for scalability and cost optimization.'), Analyst(affiliation='Tech Innovations Inc.', name='Bob Smith', role='DevOps Engineer', description='Bob is a DevOps engineer with a passion for automation and continuous integration. He explores how to streamline the process of creating and managing EC2 instances using Infrastructure as Code.'), Analyst(affiliation='Cloud Security Group', name='Catherine Lee', role='Cloud Security Analyst', description='Catherine is a cloud security expert who emphasizes the importance of security when creating EC2 instances. She focuses on compliance, risk management, and securing cloud environments.')]}\n"
     ]
    }
   ],
   "source": [
    "print(result)"
   ]
  },
  {
   "cell_type": "code",
   "execution_count": 41,
   "id": "2aeb0607-a16a-4ea1-acc8-d0f284037eae",
   "metadata": {},
   "outputs": [
    {
     "data": {
      "text/plain": [
       "()"
      ]
     },
     "execution_count": 41,
     "metadata": {},
     "output_type": "execute_result"
    }
   ],
   "source": [
    "state = graph.get_state(thread)\n",
    "state.next"
   ]
  },
  {
   "cell_type": "code",
   "execution_count": 42,
   "id": "3b7aa7a6-a9e2-4d88-be41-b321d0ed2904",
   "metadata": {},
   "outputs": [
    {
     "name": "stdout",
     "output_type": "stream",
     "text": [
      "Name: Alice Johnson\n",
      "Affiliation: Amazon Web Services\n",
      "Role: Cloud Solutions Architect\n",
      "Description: Alice specializes in cloud infrastructure and has extensive experience in deploying and managing EC2 instances. She focuses on best practices for scalability and cost optimization.\n",
      "--------------------------------------------------\n",
      "Name: Bob Smith\n",
      "Affiliation: Tech Innovations Inc.\n",
      "Role: DevOps Engineer\n",
      "Description: Bob is a DevOps engineer with a passion for automation and continuous integration. He explores how to streamline the process of creating and managing EC2 instances using Infrastructure as Code.\n",
      "--------------------------------------------------\n",
      "Name: Catherine Lee\n",
      "Affiliation: Cloud Security Group\n",
      "Role: Cloud Security Analyst\n",
      "Description: Catherine is a cloud security expert who emphasizes the importance of security when creating EC2 instances. She focuses on compliance, risk management, and securing cloud environments.\n",
      "--------------------------------------------------\n"
     ]
    }
   ],
   "source": [
    "for analyst in result[\"analysts\"]:\n",
    "    print(f\"Name: {analyst.name}\")\n",
    "    print(f\"Affiliation: {analyst.affiliation}\")\n",
    "    print(f\"Role: {analyst.role}\")\n",
    "    print(f\"Description: {analyst.description}\")\n",
    "    print(\"-\" * 50)  "
   ]
  },
  {
   "cell_type": "markdown",
   "id": "685e22b7-1550-4a9f-97b3-6982f4b9868b",
   "metadata": {},
   "source": [
    "## Conduct Interview\n",
    "\n",
    "### Generate Question\n",
    "The analyst will ask questions to the expert."
   ]
  },
  {
   "cell_type": "code",
   "execution_count": 18,
   "id": "677125ff-36ef-46f9-990a-3a59e07c8b92",
   "metadata": {},
   "outputs": [],
   "source": [
    "import operator\n",
    "from typing import Annotated\n",
    "from langgraph.graph import MessagesState"
   ]
  },
  {
   "cell_type": "code",
   "execution_count": 19,
   "id": "c334ffd1-67f4-447c-9dad-ee1a4ff6e570",
   "metadata": {},
   "outputs": [],
   "source": [
    "class InterviewState(MessagesState):\n",
    "    max_num_turns: int\n",
    "    context: Annotated[list, operator.add]\n",
    "    analyst: Analyst\n",
    "    interview: str\n",
    "    sections: str"
   ]
  },
  {
   "cell_type": "code",
   "execution_count": 20,
   "id": "16ab479e-be75-4547-add9-e707493670c7",
   "metadata": {},
   "outputs": [],
   "source": [
    "class SearchQuery(BaseModel):\n",
    "    search_query: str = Field(None, description=\"Search query for retrieval\")"
   ]
  },
  {
   "cell_type": "code",
   "execution_count": 21,
   "id": "4f6b1abd-df13-4db1-ab5b-7eba1a609031",
   "metadata": {},
   "outputs": [],
   "source": [
    "question_instructions = \"\"\"\n",
    "You are an analyst tasked with interviewing an expert to learn about a specific topic. \n",
    "\n",
    "Your goal is boil down to interesting and specific insights related to your topic.\n",
    "\n",
    "1. Interesting: Insights that people will find surprising or non-obvious.\n",
    "        \n",
    "2. Specific: Insights that avoid generalities and include specific examples from the expert.\n",
    "\n",
    "Here is your topic of focus and set of goals: {goals}\n",
    "        \n",
    "Begin by introducing yourself using a name that fits your persona, and then ask your question.\n",
    "\n",
    "Continue to ask questions to drill down and refine your understanding of the topic.\n",
    "        \n",
    "When you are satisfied with your understanding, complete the interview with: \"Thank you so much for your help!\"\n",
    "\n",
    "Remember to stay in character throughout your response, reflecting the persona and goals provided to you.\"\"\""
   ]
  },
  {
   "cell_type": "code",
   "execution_count": 22,
   "id": "9dfc48a0-acbd-41ad-a7a4-ea2773142a4f",
   "metadata": {},
   "outputs": [],
   "source": [
    "def generate_question(state: InterviewState):\n",
    "    \"\"\"\n",
    "    Node to generate a question\n",
    "    \"\"\"\n",
    "\n",
    "    analyst = state[\"analyst\"]\n",
    "    messages = state[\"messages\"]\n",
    "\n",
    "    system_message = question_instructions.format(goals=analyst.persona)\n",
    "    question = llm.invoke([SystemMessage(content=system_message)] + messages)\n",
    "\n",
    "    return {\"messages\": [question]}"
   ]
  },
  {
   "cell_type": "markdown",
   "id": "f4bed670-3faa-4f71-b73f-1154d61bf8bf",
   "metadata": {},
   "source": [
    "### Generate Answer: Parallelization\n",
    "The expert will gather information from multiple sources in parallel to answer questions."
   ]
  },
  {
   "cell_type": "code",
   "execution_count": 23,
   "id": "810b1b44-1c8b-4365-b3ed-ed0be3034085",
   "metadata": {},
   "outputs": [],
   "source": [
    "from langchain_core.messages import get_buffer_string\n",
    "\n",
    "from langchain_community.tools.tavily_search import TavilySearchResults\n",
    "tavily_search = TavilySearchResults(max_results=3)\n",
    "\n",
    "from langchain_community.document_loaders import WikipediaLoader"
   ]
  },
  {
   "cell_type": "code",
   "execution_count": 24,
   "id": "8ebe8a57-0727-4d96-825a-6d7cc2145ce7",
   "metadata": {},
   "outputs": [],
   "source": [
    "search_instructions = SystemMessage(\n",
    "    content=\"\"\"\n",
    "    You will be given a conversation between an analyst and an expert.\n",
    "\n",
    "    Your goal is to generate a well-structured query for use in retrieval and / or web-search related to the conversation.\n",
    "\n",
    "    First, analyze the full conversation.\n",
    "\n",
    "    Pay particular attention to the final question posed by the analyst.\n",
    "\n",
    "    Convert this final question into a well-structred web search query\"\"\")"
   ]
  },
  {
   "cell_type": "code",
   "execution_count": 25,
   "id": "5da0c322-7c22-4f45-9e3b-0a796e0d4e1c",
   "metadata": {},
   "outputs": [],
   "source": [
    "def search_web(state: InterviewState):\n",
    "    \n",
    "    \"\"\" \n",
    "    Retrieve docs from web search\n",
    "    \"\"\"\n",
    "\n",
    "    structured_llm = llm.with_structured_output(SearchQuery)\n",
    "    search_query = structured_llm.invoke([search_instructions]+state['messages'])\n",
    "    \n",
    "    search_docs = tavily_search.invoke(search_query.search_query)\n",
    "\n",
    "    formatted_search_docs = \"\\n\\n---\\n\\n\".join(\n",
    "        [\n",
    "            f'<Document href=\"{doc[\"url\"]}\"/>\\n{doc[\"content\"]}\\n</Document>'\n",
    "            for doc in search_docs\n",
    "        ]\n",
    "    )\n",
    "\n",
    "    return {\"context\": [formatted_search_docs]}"
   ]
  },
  {
   "cell_type": "code",
   "execution_count": 26,
   "id": "812d570f-d6ff-459d-8058-01f03ea8fe84",
   "metadata": {},
   "outputs": [],
   "source": [
    "def search_wikipedia(state: InterviewState):\n",
    "    \n",
    "    \"\"\" \n",
    "    Retrieve docs from wikipedia\n",
    "    \"\"\"\n",
    "\n",
    "    structured_llm = llm.with_structured_output(SearchQuery)\n",
    "    search_query = structured_llm.invoke([search_instructions]+state['messages'])\n",
    "    \n",
    "    search_docs = WikipediaLoader(query=search_query.search_query, \n",
    "                                  load_max_docs=2).load()\n",
    "\n",
    "    formatted_search_docs = \"\\n\\n---\\n\\n\".join(\n",
    "        [\n",
    "            f'<Document source=\"{doc.metadata[\"source\"]}\" page=\"{doc.metadata.get(\"page\", \"\")}\"/>\\n{doc.page_content}\\n</Document>'\n",
    "            for doc in search_docs\n",
    "        ]\n",
    "    )\n",
    "\n",
    "    return {\"context\": [formatted_search_docs]}"
   ]
  },
  {
   "cell_type": "code",
   "execution_count": 27,
   "id": "26e3bb4b-6b17-454c-b713-7a43c5118f3f",
   "metadata": {},
   "outputs": [],
   "source": [
    "answer_instructions = \"\"\"\n",
    "You are an expert being interview by an analyst.\n",
    "\n",
    "Here is analyst area of focus: {goals}.\n",
    "\n",
    "Your goal is to answer a question posed by the interviewer.\n",
    "\n",
    "To answer question, use this context:\n",
    "{context}\n",
    "\n",
    "When answering questions, follow these guidelines:\n",
    "\n",
    "1. Use only the information provided in the context.\n",
    "\n",
    "2. Do not introduce external information or make assumptions beyond what is explicitly stated in the context.\n",
    "\n",
    "3. The context contain sources at the topic of each individual document.\n",
    "\n",
    "4. Include these sources your answer next to any relevant statements. For example, for source # 1 use [1]. \n",
    "\n",
    "5. List your sources in order at the bottom of your answer. [1] Source 1, [2] Source 2, etc\n",
    "        \n",
    "6. If the source is: <Document source=\"assistant/docs/llama3_1.pdf\" page=\"7\"/>' then just list: \n",
    "        \n",
    "[1] assistant/docs/llama3_1.pdf, page 7 \n",
    "        \n",
    "And skip the addition of the brackets as well as the Document source preamble in your citation.\"\"\""
   ]
  },
  {
   "cell_type": "code",
   "execution_count": 28,
   "id": "6b9b25a5-6624-4a0e-ad9d-454b779c094e",
   "metadata": {},
   "outputs": [],
   "source": [
    "def generate_answer(state: InterviewState):\n",
    "    \"\"\"\n",
    "    Node to answer a question\n",
    "    \"\"\"\n",
    "\n",
    "    analyst = state[\"analyst\"]\n",
    "    messages = state[\"messages\"]\n",
    "    context = state[\"context\"]\n",
    "\n",
    "    system_message = answer_instructions.format(goals=analyst.persona, context=context)\n",
    "    answer = llm.invoke([SystemMessage(system_message)] + messages)\n",
    "\n",
    "    answer.name = \"expert\"\n",
    "    \n",
    "    return {\"messages\": [answer]}"
   ]
  },
  {
   "cell_type": "code",
   "execution_count": 29,
   "id": "b848cf05-e112-468b-b0a5-5984be6eb1d9",
   "metadata": {},
   "outputs": [],
   "source": [
    "def save_interview(state: InterviewState):\n",
    "    \"\"\"\n",
    "    Save interviews\n",
    "    \"\"\"\n",
    "\n",
    "    messages = state[\"messages\"]\n",
    "    interview = get_buffer_string(messages)\n",
    "\n",
    "    return {\"interview\": interview}"
   ]
  },
  {
   "cell_type": "code",
   "execution_count": 44,
   "id": "e5b93a23-75b7-48e0-8428-772fdb6027ba",
   "metadata": {},
   "outputs": [],
   "source": [
    "def route_messages(state: InterviewState, name: str = \"expert\"):\n",
    "    \"\"\"\n",
    "    Route between question and answer\n",
    "    \"\"\"\n",
    "\n",
    "    messages = state[\"messages\"]\n",
    "    max_num_turns = state.get(\"max_num_turns\", 2)\n",
    "\n",
    "    num_responses = len(\n",
    "        [m for m in messages if isinstance(m, AIMessage) and m.name == name]\n",
    "    )\n",
    "\n",
    "    if num_responses >= max_num_turns:\n",
    "        return \"save_interview\"\n",
    "\n",
    "    last_question = messages[-2]\n",
    "\n",
    "    if \"Thank you so much for your help\" in last_question.content:\n",
    "        return 'save_interview'\n",
    "    return \"ask_question\""
   ]
  },
  {
   "cell_type": "code",
   "execution_count": 45,
   "id": "00c11850-60e0-4c97-8f48-2d8f3100e5e0",
   "metadata": {},
   "outputs": [],
   "source": [
    "section_writer_instructions = \"\"\"\n",
    "You are an expert technical writer. \n",
    "            \n",
    "Your task is to create a short, easily digestible section of a report based on a set of source documents.\n",
    "\n",
    "1. Analyze the content of the source documents: \n",
    "- The name of each source document is at the start of the document, with the <Document tag.\n",
    "        \n",
    "2. Create a report structure using markdown formatting:\n",
    "- Use ## for the section title\n",
    "- Use ### for sub-section headers\n",
    "        \n",
    "3. Write the report following this structure:\n",
    "a. Title (## header)\n",
    "b. Summary (### header)\n",
    "c. Sources (### header)\n",
    "\n",
    "4. Make your title engaging based upon the focus area of the analyst: \n",
    "{focus}\n",
    "\n",
    "5. For the summary section:\n",
    "- Set up summary with general background / context related to the focus area of the analyst\n",
    "- Emphasize what is novel, interesting, or surprising about insights gathered from the interview\n",
    "- Create a numbered list of source documents, as you use them\n",
    "- Do not mention the names of interviewers or experts\n",
    "- Aim for approximately 400 words maximum\n",
    "- Use numbered sources in your report (e.g., [1], [2]) based on information from source documents\n",
    "        \n",
    "6. In the Sources section:\n",
    "- Include all sources used in your report\n",
    "- Provide full links to relevant websites or specific document paths\n",
    "- Separate each source by a newline. Use two spaces at the end of each line to create a newline in Markdown.\n",
    "- It will look like:\n",
    "\n",
    "### Sources\n",
    "[1] Link or Document name\n",
    "[2] Link or Document name\n",
    "\n",
    "7. Be sure to combine sources. For example this is not correct:\n",
    "\n",
    "[3] https://ai.meta.com/blog/meta-llama-3-1/\n",
    "[4] https://ai.meta.com/blog/meta-llama-3-1/\n",
    "\n",
    "There should be no redundant sources. It should simply be:\n",
    "\n",
    "[3] https://ai.meta.com/blog/meta-llama-3-1/\n",
    "        \n",
    "8. Final review:\n",
    "- Ensure the report follows the required structure\n",
    "- Include no preamble before the title of the report\n",
    "- Check that all guidelines have been followed\"\"\""
   ]
  },
  {
   "cell_type": "code",
   "execution_count": 46,
   "id": "d1e98ca5-f7d2-4a95-82c2-36e090a9a6c0",
   "metadata": {},
   "outputs": [],
   "source": [
    "def write_section(state: InterviewState):\n",
    "\n",
    "    \"\"\" \n",
    "    Node to answer a question \n",
    "    \"\"\"\n",
    "    \n",
    "    interview = state[\"interview\"]\n",
    "    context = state[\"context\"]\n",
    "    analyst = state[\"analyst\"]\n",
    "    \n",
    "    system_message = section_writer_instructions.format(focus=analyst.description)\n",
    "    section = llm.invoke([SystemMessage(content=system_message)]+[HumanMessage(content=f\"Use this source to write your section: {context}\")]) \n",
    "                \n",
    "    return {\"sections\": [section.content]}"
   ]
  },
  {
   "cell_type": "code",
   "execution_count": 47,
   "id": "00f0e94d-296f-4db9-85ad-10f7353ff0d0",
   "metadata": {},
   "outputs": [
    {
     "data": {
      "image/jpeg": "[encoded data removed]",
      "text/plain": [
       "<IPython.core.display.Image object>"
      ]
     },
     "metadata": {},
     "output_type": "display_data"
    }
   ],
   "source": [
    "interview_builder = StateGraph(InterviewState)\n",
    "interview_builder.add_node(\"ask_question\", generate_question)\n",
    "interview_builder.add_node(\"search_web\", search_web)\n",
    "interview_builder.add_node(\"search_wikipedia\", search_wikipedia)\n",
    "interview_builder.add_node(\"answer_question\", generate_answer)\n",
    "interview_builder.add_node(\"save_interview\", save_interview)\n",
    "interview_builder.add_node(\"write_section\", write_section)\n",
    "\n",
    "interview_builder.add_edge(START, \"ask_question\")\n",
    "interview_builder.add_edge(\"ask_question\", \"search_web\")\n",
    "interview_builder.add_edge(\"ask_question\", \"search_wikipedia\")\n",
    "interview_builder.add_edge(\"search_web\", \"answer_question\")\n",
    "interview_builder.add_edge(\"search_wikipedia\", \"answer_question\")\n",
    "interview_builder.add_conditional_edges(\"answer_question\", route_messages,['ask_question','save_interview'])\n",
    "interview_builder.add_edge(\"save_interview\", \"write_section\")\n",
    "interview_builder.add_edge(\"write_section\", END)\n",
    "\n",
    "memory = MemorySaver()\n",
    "interview_graph = interview_builder.compile(checkpointer=memory).with_config(run_name=\"Conduct Interviews\")\n",
    "\n",
    "display(Image(interview_graph.get_graph().draw_mermaid_png()))"
   ]
  },
  {
   "cell_type": "code",
   "execution_count": 49,
   "id": "631ad07a-967f-4014-b575-db31705c8b1e",
   "metadata": {},
   "outputs": [
    {
     "data": {
      "text/plain": [
       "Analyst(affiliation='Amazon Web Services', name='Alice Johnson', role='Cloud Solutions Architect', description='Alice specializes in cloud infrastructure and has extensive experience in deploying and managing EC2 instances. She focuses on best practices for scalability and cost optimization.')"
      ]
     },
     "execution_count": 49,
     "metadata": {},
     "output_type": "execute_result"
    }
   ],
   "source": [
    "analysts = result[\"analysts\"]\n",
    "analysts[0]"
   ]
  },
  {
   "cell_type": "code",
   "execution_count": 52,
   "id": "5d125a49-1390-4df9-af93-82a37dcaf7d6",
   "metadata": {},
   "outputs": [
    {
     "data": {
      "text/markdown": [
       "## Maximizing Efficiency: Best Practices for EC2 Cost Optimization\n",
       "\n",
       "### Summary\n",
       "In the realm of cloud infrastructure, particularly with Amazon EC2, cost optimization is a critical focus for organizations aiming to balance performance and expenditure. As businesses increasingly migrate to the cloud, understanding how to effectively manage costs while ensuring scalability becomes paramount. This report synthesizes insights from various sources on best practices for optimizing EC2 costs, revealing novel strategies that can lead to significant savings without compromising performance.\n",
       "\n",
       "One of the most surprising insights is the effectiveness of **auto-scaling**. This technique allows organizations to automatically adjust the capacity of their EC2 instances based on real-time workload demands. By scaling down during periods of low demand, businesses can avoid unnecessary costs associated with idle resources, thus enhancing fault tolerance at minimal expense [1][4]. \n",
       "\n",
       "Another fundamental principle is **rightsizing**. This involves selecting instance types that closely match workload requirements, thereby preventing overprovisioning. For instance, a web application hosted on EC2 can benefit from careful analysis to ensure that the chosen instance types are not only sufficient but also cost-effective [2]. \n",
       "\n",
       "Moreover, monitoring less utilized EC2 instances is crucial. By evaluating resource usage, organizations can identify underperforming instances and either terminate or resize them, leading to substantial savings [3]. The use of reserved and spot instances is also highlighted as a strategic approach to further reduce costs while maintaining necessary performance levels [2][3].\n",
       "\n",
       "In summary, the combination of auto-scaling, rightsizing, and diligent monitoring of resource utilization forms a robust framework for EC2 cost optimization. These practices not only help in managing expenses but also ensure that businesses can scale their operations efficiently in response to changing demands.\n",
       "\n",
       "### Sources\n",
       "[1] https://blog.economize.cloud/ec2-cost-optimization/  \n",
       "[2] https://community.aws/content/2hQNGTh6vpwOHTgKELzL8mkqmKb/ec2-cost-optimization-15-ways-to-save-on-amazon-ec2  \n",
       "[3] https://www.lucidity.cloud/blog/aws-ec2-cost-optimization  \n",
       "[4] https://www.prosperops.com/blog/aws-auto-scaling  "
      ],
      "text/plain": [
       "<IPython.core.display.Markdown object>"
      ]
     },
     "execution_count": 52,
     "metadata": {},
     "output_type": "execute_result"
    }
   ],
   "source": [
    "from IPython.display import Markdown\n",
    "\n",
    "messages = [HumanMessage(f\"So you said you were writing article on {topic}?\")]\n",
    "thread = {\"configurable\": {\"thread_id\": \"1\"}}\n",
    "interview = interview_graph.invoke({\"analyst\": analysts[0], \"messages\": messages, \"max_num_turns\": 2}, thread)\n",
    "Markdown(interview['sections'][0])"
   ]
  },
  {
   "cell_type": "markdown",
   "id": "6e5f5874-2852-4d81-91ad-0fea0c288d7b",
   "metadata": {},
   "source": [
    "### Parallelze interviews: Map-Reduce\n",
    "\n",
    "We parallelize the interviews via the `Send()` API, a map step.\n",
    "\n",
    "We combine them into the report body in a reduce step.\n",
    "\n",
    "### Finalize\n",
    "\n",
    "We add a final step to write an intro and conclusion to the final report."
   ]
  },
  {
   "cell_type": "code",
   "execution_count": 53,
   "id": "3945ac4e-87c1-432f-a4e0-f8e6f6680d0d",
   "metadata": {},
   "outputs": [],
   "source": [
    "import operator\n",
    "from typing import List, Annotated\n",
    "from typing_extensions import TypedDict"
   ]
  },
  {
   "cell_type": "code",
   "execution_count": 54,
   "id": "f1386698-462a-4ad7-811e-cde64612d6d7",
   "metadata": {},
   "outputs": [],
   "source": [
    "class ResearchGraphState(TypedDict):\n",
    "    topic: str \n",
    "    max_analysts: int \n",
    "    human_analyst_feedback: str \n",
    "    analysts: List[Analyst] \n",
    "    sections: Annotated[list, operator.add]\n",
    "    introduction: str \n",
    "    content: str \n",
    "    conclusion: str\n",
    "    final_report: str"
   ]
  },
  {
   "cell_type": "code",
   "execution_count": 55,
   "id": "67486949-99cb-49ef-87b0-17fd40d7c2ef",
   "metadata": {},
   "outputs": [],
   "source": [
    "from langgraph.constants import Send"
   ]
  },
  {
   "cell_type": "code",
   "execution_count": 56,
   "id": "d89d74a4-0cb6-4077-b2dd-cdd3607b7115",
   "metadata": {},
   "outputs": [],
   "source": [
    "def initiate_all_interviews(state: ResearchGraphState):\n",
    "    \"\"\"\n",
    "    This is the \"map\" step where we run each interview sub-graph using Send API\n",
    "    \"\"\"\n",
    "\n",
    "    human_analyst_feedback=state.get('human_analyst_feedback')\n",
    "    if human_analyst_feedback:\n",
    "        # Return to create_analysts\n",
    "        return \"create_analysts\"\n",
    "\n",
    "   \n",
    "    else:\n",
    "        topic = state[\"topic\"]\n",
    "        return [Send(\"conduct_interview\", \n",
    "                     {\"analyst\": analyst,\n",
    "                      \"messages\": [HumanMessage(content=f\"So you said you were writing an article on {topic}?\")]\n",
    "                     }) for analyst in state[\"analysts\"]]"
   ]
  },
  {
   "cell_type": "code",
   "execution_count": 57,
   "id": "7b4a8646-7bc1-4801-ac62-5a3d1b594989",
   "metadata": {},
   "outputs": [],
   "source": [
    "report_writer_instructions = \"\"\"\n",
    "You are a technical writer creating a report on this overall topic: \n",
    "\n",
    "{topic}\n",
    "    \n",
    "You have a team of analysts. Each analyst has done two things: \n",
    "\n",
    "1. They conducted an interview with an expert on a specific sub-topic.\n",
    "2. They write up their finding into a memo.\n",
    "\n",
    "Your task: \n",
    "\n",
    "1. You will be given a collection of memos from your analysts.\n",
    "2. Think carefully about the insights from each memo.\n",
    "3. Consolidate these into a crisp overall summary that ties together the central ideas from all of the memos. \n",
    "4. Summarize the central points in each memo into a cohesive single narrative.\n",
    "\n",
    "To format your report:\n",
    " \n",
    "1. Use markdown formatting. \n",
    "2. Include no pre-amble for the report.\n",
    "3. Use no sub-heading. \n",
    "4. Start your report with a single title header: ## Insights\n",
    "5. Do not mention any analyst names in your report.\n",
    "6. Preserve any citations in the memos, which will be annotated in brackets, for example [1] or [2].\n",
    "7. Create a final, consolidated list of sources and add to a Sources section with the `## Sources` header.\n",
    "8. List your sources in order and do not repeat.\n",
    "\n",
    "[1] Source 1\n",
    "[2] Source 2\n",
    "\n",
    "Here are the memos from your analysts to build your report from: \n",
    "\n",
    "{context}\"\"\""
   ]
  },
  {
   "cell_type": "code",
   "execution_count": 58,
   "id": "5ca7edc5-42c2-41fc-bffd-de4c70cdcb82",
   "metadata": {},
   "outputs": [],
   "source": [
    "def write_report(state: ResearchGraphState):\n",
    "    \n",
    "    sections = state[\"sections\"]\n",
    "    topic = state[\"topic\"]\n",
    "\n",
    "    formatted_str_sections = \"\\n\\n\".join([f\"{section}\" for section in sections])\n",
    "    \n",
    "    system_message = report_writer_instructions.format(topic=topic, context=formatted_str_sections)    \n",
    "    report = llm.invoke([SystemMessage(content=system_message)]+[HumanMessage(content=f\"Write a report based upon these memos.\")])\n",
    "    \n",
    "    return {\"content\": report.content}"
   ]
  },
  {
   "cell_type": "code",
   "execution_count": 59,
   "id": "933b41e3-1ef7-45da-83a4-87452ee359a2",
   "metadata": {},
   "outputs": [],
   "source": [
    "intro_conclusion_instructions = \"\"\"\n",
    "You are a technical writer finishing a report on {topic}\n",
    "\n",
    "You will be given all of the sections of the report.\n",
    "\n",
    "You job is to write a crisp and compelling introduction or conclusion section.\n",
    "\n",
    "The user will instruct you whether to write the introduction or conclusion.\n",
    "\n",
    "Include no pre-amble for either section.\n",
    "\n",
    "Target around 100 words, crisply previewing (for introduction) or recapping (for conclusion) all of the sections of the report.\n",
    "\n",
    "Use markdown formatting. \n",
    "\n",
    "For your introduction, create a compelling title and use the # header for the title.\n",
    "\n",
    "For your introduction, use ## Introduction as the section header. \n",
    "\n",
    "For your conclusion, use ## Conclusion as the section header.\n",
    "\n",
    "Here are the sections to reflect on for writing: {formatted_str_sections}\"\"\""
   ]
  },
  {
   "cell_type": "code",
   "execution_count": 60,
   "id": "ac929961-19a7-4a22-be5f-c52ee2618b7d",
   "metadata": {},
   "outputs": [],
   "source": [
    "def write_introduction(state: ResearchGraphState):\n",
    "\n",
    "    sections = state[\"sections\"]\n",
    "    topic = state[\"topic\"]\n",
    "\n",
    "    formatted_str_sections = \"\\n\\n\".join([f\"{section}\" for section in sections])\n",
    "    \n",
    "    instructions = intro_conclusion_instructions.format(topic=topic, formatted_str_sections=formatted_str_sections)    \n",
    "    intro = llm.invoke([instructions]+[HumanMessage(content=f\"Write the report introduction\")]) \n",
    "    \n",
    "    return {\"introduction\": intro.content}"
   ]
  },
  {
   "cell_type": "code",
   "execution_count": 61,
   "id": "0b73c223-ce3e-4982-b71f-86b894fdaa50",
   "metadata": {},
   "outputs": [],
   "source": [
    "def write_conclusion(state: ResearchGraphState):\n",
    "\n",
    "    sections = state[\"sections\"]\n",
    "    topic = state[\"topic\"]\n",
    "\n",
    "    formatted_str_sections = \"\\n\\n\".join([f\"{section}\" for section in sections])\n",
    "    \n",
    "    instructions = intro_conclusion_instructions.format(topic=topic, formatted_str_sections=formatted_str_sections)    \n",
    "    conclusion = llm.invoke([instructions]+[HumanMessage(content=f\"Write the report conclusion\")]) \n",
    "    \n",
    "    return {\"conclusion\": conclusion.content}"
   ]
  },
  {
   "cell_type": "code",
   "execution_count": 62,
   "id": "a30c71dc-128a-43fe-b2e3-b8eccb49ef9c",
   "metadata": {},
   "outputs": [],
   "source": [
    "def finalize_report(state: ResearchGraphState):\n",
    "    \"\"\" \n",
    "    The is the \"reduce\" step where we gather all the sections, combine them, and reflect on them to write the intro/conclusion \n",
    "    \"\"\"\n",
    "    \n",
    "    content = state[\"content\"]\n",
    "    if content.startswith(\"## Insights\"):\n",
    "        content = content.strip(\"## Insights\")\n",
    "    if \"## Sources\" in content:\n",
    "        try:\n",
    "            content, sources = content.split(\"\\n## Sources\\n\")\n",
    "        except:\n",
    "            sources = None\n",
    "    else:\n",
    "        sources = None\n",
    "\n",
    "    final_report = state[\"introduction\"] + \"\\n\\n---\\n\\n\" + content + \"\\n\\n---\\n\\n\" + state[\"conclusion\"]\n",
    "    if sources is not None:\n",
    "        final_report += \"\\n\\n## Sources\\n\" + sources\n",
    "        \n",
    "    return {\"final_report\": final_report}"
   ]
  },
  {
   "cell_type": "code",
   "execution_count": 63,
   "id": "c3e1f6ca-a1d3-47bd-a9bc-801e5e4d25d3",
   "metadata": {},
   "outputs": [
    {
     "data": {
      "image/jpeg": "[encoded data removed]",
      "text/plain": [
       "<IPython.core.display.Image object>"
      ]
     },
     "metadata": {},
     "output_type": "display_data"
    }
   ],
   "source": [
    "builder = StateGraph(ResearchGraphState)\n",
    "builder.add_node(\"create_analysts\", create_analysts)\n",
    "builder.add_node(\"human_feedback\", human_feedback)\n",
    "builder.add_node(\"conduct_interview\", interview_builder.compile())\n",
    "builder.add_node(\"write_report\",write_report)\n",
    "builder.add_node(\"write_introduction\",write_introduction)\n",
    "builder.add_node(\"write_conclusion\",write_conclusion)\n",
    "builder.add_node(\"finalize_report\",finalize_report)\n",
    "\n",
    "builder.add_edge(START, \"create_analysts\")\n",
    "builder.add_edge(\"create_analysts\", \"human_feedback\")\n",
    "builder.add_conditional_edges(\"human_feedback\", initiate_all_interviews, [\"create_analysts\", \"conduct_interview\"])\n",
    "builder.add_edge(\"conduct_interview\", \"write_report\")\n",
    "builder.add_edge(\"conduct_interview\", \"write_introduction\")\n",
    "builder.add_edge(\"conduct_interview\", \"write_conclusion\")\n",
    "builder.add_edge([\"write_conclusion\", \"write_report\", \"write_introduction\"], \"finalize_report\")\n",
    "builder.add_edge(\"finalize_report\", END)\n",
    "\n",
    "memory = MemorySaver()\n",
    "graph = builder.compile(interrupt_before=['human_feedback'], checkpointer=memory)\n",
    "\n",
    "display(Image(graph.get_graph(xray=1).draw_mermaid_png()))"
   ]
  },
  {
   "cell_type": "code",
   "execution_count": 64,
   "id": "58d40712-39cd-4ce6-9925-bf43fceb8dfb",
   "metadata": {},
   "outputs": [
    {
     "name": "stdout",
     "output_type": "stream",
     "text": [
      "Are you satisfied with generated analysts (yes/no):  no\n",
      "How would you improve analyst creation:  Add in the CEO of gen ai native startup\n"
     ]
    }
   ],
   "source": [
    "max_analysts = 3\n",
    "topic = \"how to create ec2 instance\"\n",
    "thread = {\"configurable\": {\"thread_id\": \"1\"}}\n",
    "\n",
    "graph.invoke({\"topic\": topic, \"max_analysts\": max_analysts, \"human_analyst_feedback\": \"\"}, thread)\n",
    "\n",
    "user_approval = input(\"Are you satisfied with generated analysts (yes/no): \")\n",
    "\n",
    "if user_approval.lower() == \"yes\":\n",
    "    result = graph.invoke(None, thread)  \n",
    "else:\n",
    "    user_feedback = input(\"How would you improve analyst creation: \")\n",
    "    graph.invoke({\"topic\": topic + \",\" + user_feedback, \"max_analysts\": max_analysts, \"human_analyst_feedback\": \"\"}, thread)\n",
    "    result = graph.invoke(None, thread)"
   ]
  },
  {
   "cell_type": "code",
   "execution_count": 65,
   "id": "80487e96-a7b9-4b70-bfd4-32e77809ee29",
   "metadata": {},
   "outputs": [
    {
     "data": {
      "text/markdown": [
       "# Transforming Cloud Management: The Role of AI in EC2 Optimization\n",
       "\n",
       "## Introduction\n",
       "\n",
       "As businesses increasingly rely on cloud computing, the integration of artificial intelligence (AI) into Amazon Web Services (AWS) is reshaping the management of Amazon Elastic Compute Cloud (EC2) instances. This report explores innovative cloud solutions that leverage AI for optimized EC2 management, highlighting advancements such as the unique DL1 instance type and Amazon Elastic Inference, which significantly reduce operational costs. We also address common challenges in EC2 management and present best practices for overcoming them. By examining the intersection of AI and cloud computing, this report underscores the potential for enhanced efficiency and cost-effectiveness in managing EC2 instances, ultimately driving business growth and technological advancement.\n",
       "\n",
       "---\n",
       "\n",
       "\n",
       "The integration of artificial intelligence (AI) with Amazon Web Services (AWS) is significantly transforming the management and deployment of Amazon Elastic Compute Cloud (EC2) instances. Recent advancements in AI technologies are streamlining processes, enhancing performance, and reducing operational costs, making cloud infrastructure more efficient and cost-effective.\n",
       "\n",
       "One of the key innovations is the introduction of specialized EC2 instance types, such as the DL1 instances utilizing Habana Gaudi chips for deep learning, and the M7i instances powered by 4th Gen Intel® Xeon® Scalable processors, which can reduce inference costs by up to 2.5 times compared to previous models [1]. Additionally, the EC2 DL2q instances, equipped with Qualcomm AI 100 Standard accelerators, facilitate cost-efficient deployment of deep learning workloads, ensuring performance and accuracy during transitions to Qualcomm devices [2]. The collaboration between AWS and NVIDIA has also led to the development of EC2 P5 instances, optimized for training large machine learning models, which can improve training times by up to four times [3].\n",
       "\n",
       "AI-driven automation tools are emerging as essential components in infrastructure management. These tools can automate the provisioning of EC2 instances, RDS databases, and S3 buckets, leading to more efficient resource management and cost optimization [4]. Intelligent automation can also manage power cycles of development instances, ensuring resources are utilized only when necessary [5]. Furthermore, integrating AI with infrastructure management tools like Terraform enhances data-driven decision-making regarding instance utilization, such as recommending downsizing underutilized instances [6].\n",
       "\n",
       "However, managing EC2 instances is not without challenges. Common issues include failures to launch instances due to misconfigurations or resource limitations, and the importance of selecting the appropriate Amazon Machine Image (AMI) for instance connectivity [1]. Users must also be cautious of Free Tier usage limits to avoid unexpected charges [2]. Best practices for managing EC2 instances include right-sizing based on workload characteristics, utilizing Spot Instances for cost savings, and continuously monitoring performance [3][4]. Understanding the different EC2 instance families—General Purpose, Compute-Optimized, and Memory-Optimized—can help users make informed decisions tailored to their specific application needs [5].\n",
       "\n",
       "In summary, the intersection of AI and cloud computing is paving the way for more efficient, cost-effective, and innovative solutions in managing EC2 instances. As organizations continue to explore these advancements, the ability to deploy flexible and specialized resources will be crucial for optimizing cloud expenditures and enhancing operational performance.\n",
       "\n",
       "\n",
       "---\n",
       "\n",
       "## Conclusion\n",
       "\n",
       "In conclusion, the integration of artificial intelligence with Amazon EC2 is reshaping cloud infrastructure management, offering innovative solutions that enhance efficiency and reduce costs. This report has explored the transformative impact of AI on EC2 instance management, highlighting advancements such as the DL1 instance type and Amazon Elastic Inference, which significantly lower operational expenses. We also examined common challenges users face with EC2 and best practices for optimizing performance and cost. As organizations increasingly adopt AI-driven automation tools and specialized instance types, they can expect improved resource management and accelerated innovation, positioning themselves for success in a competitive landscape.\n",
       "\n",
       "## Sources\n",
       "[1] https://www.intel.com/content/www/us/en/developer/articles/technical/accelerate-your-ai-software-workloads-on-aws.html  \n",
       "[2] https://aws.amazon.com/blogs/machine-learning/optimizing-costs-for-machine-learning-with-amazon-sagemaker/  \n",
       "[3] https://aws.amazon.com/ec2/instance-types/inf1/  \n",
       "[4] https://www.linkedin.com/pulse/aws-infrastructure-automation-services-using-ai-tools-lcsuc/  \n",
       "[5] https://nuvento.com/blog/leveraging-ai-for-efficient-cloud-management/  \n",
       "[6] https://medium.com/@shane.digital.ai/automating-aws-provisioning-with-terraform-using-claude-ai-powered-provisioning-7b72a5a56ade  \n",
       "[7] https://aws.plainenglish.io/what-are-the-common-issues-in-aws-ec2-instances-20adce409a7c  \n",
       "[8] https://docs.aws.amazon.com/AWSEC2/latest/UserGuide/EC2_GetStarted.html  \n",
       "[9] https://hands-on.cloud/amazon-ec2-instance-types/  \n",
       "[10] https://aws.amazon.com/blogs/aws/choosing-the-right-ec2-instance-type-for-your-application/  \n",
       "[11] https://medium.com/@bilal325/comparing-ec2-instance-types-finding-the-right-fit-for-your-workload-701d454031f  \n",
       "[12] https://community.intel.com/t5/Blogs/Tech-Innovation/Cloud/Flexible-and-cost-effective-LLM-deployment-with-Amazon-EC2-M7i/post/1590028  \n",
       "[13] https://aws.amazon.com/blogs/machine-learning/amazon-ec2-dl2q-instance-for-cost-efficient-high-performance-ai-inference-is-now-generally-available/  \n",
       "[14] https://press.aboutamazon.com/2023/3/aws-and-nvidia-collaborate-on-next-generation-infrastructure-for-training-large-machine-learning-models-and-building-generative-ai-applications  \n",
       "[15] https://en.wikipedia.org/wiki/Amazon_Elastic_Compute_Cloud  \n",
       "[16] https://opsiocloud.com/resource/blog/ec2-cost-optimization-maximizing-aws-efficiency/  \n",
       "[17] https://www.toptal.com/aws/aws-cost-optimization-at-scale"
      ],
      "text/plain": [
       "<IPython.core.display.Markdown object>"
      ]
     },
     "execution_count": 65,
     "metadata": {},
     "output_type": "execute_result"
    }
   ],
   "source": [
    "from IPython.display import Markdown\n",
    "final_state = graph.get_state(thread)\n",
    "report = final_state.values.get('final_report')\n",
    "Markdown(report)"
   ]
  },
  {
   "cell_type": "code",
   "execution_count": null,
   "id": "80de46c5-622f-4485-a365-b6a1f4121dec",
   "metadata": {},
   "outputs": [],
   "source": []
  }
 ],
 "metadata": {
  "kernelspec": {
   "display_name": "Python 3 (ipykernel)",
   "language": "python",
   "name": "python3"
  },
  "language_info": {
   "codemirror_mode": {
    "name": "ipython",
    "version": 3
   },
   "file_extension": ".py",
   "mimetype": "text/x-python",
   "name": "python",
   "nbconvert_exporter": "python",
   "pygments_lexer": "ipython3",
   "version": "3.12.3"
  }
 },
 "nbformat": 4,
 "nbformat_minor": 5
}
